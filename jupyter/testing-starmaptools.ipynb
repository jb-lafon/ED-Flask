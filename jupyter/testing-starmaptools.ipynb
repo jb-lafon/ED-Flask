{
 "cells": [
  {
   "cell_type": "code",
   "execution_count": 2,
   "id": "initial_id",
   "metadata": {
    "collapsed": true,
    "ExecuteTime": {
     "end_time": "2023-11-15T06:27:54.356776Z",
     "start_time": "2023-11-15T06:27:54.013021Z"
    }
   },
   "outputs": [],
   "source": [
    "import starmaptools as smt\n",
    "from selenium.webdriver.common.by import By\n",
    "from selenium.webdriver.support.ui import WebDriverWait\n",
    "from selenium.webdriver.support import expected_conditions as EC\n",
    "from selenium.common.exceptions import TimeoutException\n",
    "import time"
   ]
  },
  {
   "cell_type": "code",
   "execution_count": null,
   "outputs": [],
   "source": [],
   "metadata": {
    "collapsed": false
   },
   "id": "f7dcf1a9e66aec19"
  },
  {
   "cell_type": "markdown",
   "source": [
    "# Test API call"
   ],
   "metadata": {
    "collapsed": false
   },
   "id": "2146b42d6618365e"
  },
  {
   "cell_type": "code",
   "execution_count": 41,
   "outputs": [
    {
     "data": {
      "text/plain": "'INSERT INTO edsm_accounts (\"email\", \"commanderName\", \"password\", \"creationDate\", \"apiKey\", \"usable\") VALUES (\"test@test.com\", \"commander_name\", \"password123!\", \"2023-11-14 22:50:17\", \"ahsdvfkgsdf6s7daydfayfsdtis\", 1)'"
     },
     "execution_count": 41,
     "metadata": {},
     "output_type": "execute_result"
    }
   ],
   "source": [
    "from datetime import datetime\n",
    "import pandas as pd\n",
    "from sqlalchemy import insert, table, text\n",
    "fields = {\n",
    "    'email': 'test@test.com',\n",
    "    'commanderName': 'commander_name',\n",
    "    'password': 'password123!',\n",
    "    'passwordCheck': 'password123!',\n",
    "    'creationDate': datetime.now().strftime(\"%Y-%m-%d %H:%M:%S\"),\n",
    "    'apiKey': 'ahsdvfkgsdf6s7daydfayfsdtis',\n",
    "    'usable': '1',\n",
    "}\n",
    "\n",
    "fields.pop('passwordCheck')\n",
    "engine = smt.Engine().ENGINE\n",
    "# SQL statement to insert records to the table edsm_accounts\n",
    "sql = 'INSERT INTO edsm_accounts (\\\"{}\\\") VALUES (\\\"{}\\\", {})'.format(\n",
    "    '\\\", \\\"'.join(fields.keys()),\n",
    "    '\\\", \\\"'.join(list(fields.values())[:-1]),\n",
    "    fields['usable']\n",
    ")\n",
    "# engine = smt.Engine().ENGINE\n",
    "# with engine.connect() as conn:\n",
    "#     result = conn.execute(text(sql))\n",
    "#     conn.commit()"
   ],
   "metadata": {
    "collapsed": false,
    "ExecuteTime": {
     "end_time": "2023-11-15T06:50:17.356539Z",
     "start_time": "2023-11-15T06:50:17.351127Z"
    }
   },
   "id": "f40f186e5167a9ab"
  },
  {
   "cell_type": "code",
   "execution_count": 35,
   "outputs": [
    {
     "ename": "AttributeError",
     "evalue": "'Engine' object has no attribute 'execute'",
     "output_type": "error",
     "traceback": [
      "\u001B[0;31m---------------------------------------------------------------------------\u001B[0m",
      "\u001B[0;31mAttributeError\u001B[0m                            Traceback (most recent call last)",
      "Cell \u001B[0;32mIn[35], line 2\u001B[0m\n\u001B[1;32m      1\u001B[0m engine \u001B[38;5;241m=\u001B[39m smt\u001B[38;5;241m.\u001B[39mEngine()\u001B[38;5;241m.\u001B[39mENGINE\n\u001B[0;32m----> 2\u001B[0m engine\u001B[38;5;241m.\u001B[39mexecute(\u001B[38;5;124m'\u001B[39m\u001B[38;5;124mSELECT * FROM edsm_accounts\u001B[39m\u001B[38;5;124m'\u001B[39m)\u001B[38;5;241m.\u001B[39mfetchall()\n",
      "\u001B[0;31mAttributeError\u001B[0m: 'Engine' object has no attribute 'execute'"
     ]
    }
   ],
   "source": [
    "engine = smt.Engine().ENGINE\n",
    "engine.execute('SELECT * FROM edsm_accounts').fetchall()"
   ],
   "metadata": {
    "collapsed": false,
    "ExecuteTime": {
     "end_time": "2023-11-15T06:46:26.069339Z",
     "start_time": "2023-11-15T06:46:26.065318Z"
    }
   },
   "id": "4358c25a724fcf9a"
  }
 ],
 "metadata": {
  "kernelspec": {
   "display_name": "Python 3",
   "language": "python",
   "name": "python3"
  },
  "language_info": {
   "codemirror_mode": {
    "name": "ipython",
    "version": 2
   },
   "file_extension": ".py",
   "mimetype": "text/x-python",
   "name": "python",
   "nbconvert_exporter": "python",
   "pygments_lexer": "ipython2",
   "version": "2.7.6"
  }
 },
 "nbformat": 4,
 "nbformat_minor": 5
}
