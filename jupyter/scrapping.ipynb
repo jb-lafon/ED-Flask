{
 "cells": [
  {
   "cell_type": "code",
   "execution_count": 6,
   "id": "initial_id",
   "metadata": {
    "collapsed": true,
    "ExecuteTime": {
     "end_time": "2023-10-25T04:08:12.683995Z",
     "start_time": "2023-10-25T04:08:12.674709Z"
    }
   },
   "outputs": [],
   "source": [
    "import scrapy\n",
    "import pandas as pd\n",
    "import starmaptools.functions as stf"
   ]
  },
  {
   "cell_type": "code",
   "execution_count": 11,
   "outputs": [],
   "source": [
    "DOMAIN = 'https://www.edsm.net/en/'"
   ],
   "metadata": {
    "collapsed": false,
    "ExecuteTime": {
     "end_time": "2023-10-25T04:11:01.947191Z",
     "start_time": "2023-10-25T04:11:01.939012Z"
    }
   },
   "id": "9cb98a8595556e6c"
  },
  {
   "cell_type": "code",
   "execution_count": 7,
   "outputs": [
    {
     "data": {
      "text/plain": "                      name                                             coords  \\\n0     Eowyg Aihm SI-K d8-1    {'x': 23852.8125, 'y': 75.125, 'z': -10506.375}   \n1  Blua Hypue XL-F c14-130     {'x': -4172.8125, 'y': -47.875, 'z': 12347.75}   \n2      Stuemeae FL-Y d3797       {'x': 193.28125, 'y': 96.5, 'z': 25929.9375}   \n3     Pha Auscs RJ-K b37-0  {'x': 28973.53125, 'y': 279.6875, 'z': 26631.0...   \n4  Flyae Dryoae RH-P c20-1  {'x': 6458.59375, 'y': -863.6875, 'z': -179.6875}   \n\n         id             id64                date  \n0  82389598      49836737867 2023-10-18 00:00:04  \n1  82389599   35811001080954 2023-10-18 00:00:11  \n2  82389600  130474454307723 2023-10-18 00:00:18  \n3  82389601    1059649965889 2023-10-18 00:00:40  \n4  82389602     369601385138 2023-10-18 00:00:47  ",
      "text/html": "<div>\n<style scoped>\n    .dataframe tbody tr th:only-of-type {\n        vertical-align: middle;\n    }\n\n    .dataframe tbody tr th {\n        vertical-align: top;\n    }\n\n    .dataframe thead th {\n        text-align: right;\n    }\n</style>\n<table border=\"1\" class=\"dataframe\">\n  <thead>\n    <tr style=\"text-align: right;\">\n      <th></th>\n      <th>name</th>\n      <th>coords</th>\n      <th>id</th>\n      <th>id64</th>\n      <th>date</th>\n    </tr>\n  </thead>\n  <tbody>\n    <tr>\n      <th>0</th>\n      <td>Eowyg Aihm SI-K d8-1</td>\n      <td>{'x': 23852.8125, 'y': 75.125, 'z': -10506.375}</td>\n      <td>82389598</td>\n      <td>49836737867</td>\n      <td>2023-10-18 00:00:04</td>\n    </tr>\n    <tr>\n      <th>1</th>\n      <td>Blua Hypue XL-F c14-130</td>\n      <td>{'x': -4172.8125, 'y': -47.875, 'z': 12347.75}</td>\n      <td>82389599</td>\n      <td>35811001080954</td>\n      <td>2023-10-18 00:00:11</td>\n    </tr>\n    <tr>\n      <th>2</th>\n      <td>Stuemeae FL-Y d3797</td>\n      <td>{'x': 193.28125, 'y': 96.5, 'z': 25929.9375}</td>\n      <td>82389600</td>\n      <td>130474454307723</td>\n      <td>2023-10-18 00:00:18</td>\n    </tr>\n    <tr>\n      <th>3</th>\n      <td>Pha Auscs RJ-K b37-0</td>\n      <td>{'x': 28973.53125, 'y': 279.6875, 'z': 26631.0...</td>\n      <td>82389601</td>\n      <td>1059649965889</td>\n      <td>2023-10-18 00:00:40</td>\n    </tr>\n    <tr>\n      <th>4</th>\n      <td>Flyae Dryoae RH-P c20-1</td>\n      <td>{'x': 6458.59375, 'y': -863.6875, 'z': -179.6875}</td>\n      <td>82389602</td>\n      <td>369601385138</td>\n      <td>2023-10-18 00:00:47</td>\n    </tr>\n  </tbody>\n</table>\n</div>"
     },
     "execution_count": 7,
     "metadata": {},
     "output_type": "execute_result"
    }
   ],
   "source": [
    "test_systems = pd.read_json('../python-code/data/systemsWithCoordinates7days.json')\n",
    "test_systems.head()"
   ],
   "metadata": {
    "collapsed": false,
    "ExecuteTime": {
     "end_time": "2023-10-25T04:08:14.451853Z",
     "start_time": "2023-10-25T04:08:14.117276Z"
    }
   },
   "id": "ed81dd315845570d"
  },
  {
   "cell_type": "code",
   "execution_count": 18,
   "outputs": [
    {
     "data": {
      "text/plain": "             id                        name\n0      82389598        Eowyg Aihm SI-K d8-1\n1      82389599     Blua Hypue XL-F c14-130\n2      82389600         Stuemeae FL-Y d3797\n3      82389601        Pha Auscs RJ-K b37-0\n4      82389602     Flyae Dryoae RH-P c20-1\n...         ...                         ...\n96540  82472766         Clookeou XP-G b56-8\n96541  82472767       Prieluia AM-D d12-102\n96542  82472768  Hypuae Chraei YT-Y d1-4249\n96543  82472769     Dryooe Flyou XJ-D b27-7\n96544  82472770        Dumbaa TL-B d14-2537\n\n[96545 rows x 2 columns]",
      "text/html": "<div>\n<style scoped>\n    .dataframe tbody tr th:only-of-type {\n        vertical-align: middle;\n    }\n\n    .dataframe tbody tr th {\n        vertical-align: top;\n    }\n\n    .dataframe thead th {\n        text-align: right;\n    }\n</style>\n<table border=\"1\" class=\"dataframe\">\n  <thead>\n    <tr style=\"text-align: right;\">\n      <th></th>\n      <th>id</th>\n      <th>name</th>\n    </tr>\n  </thead>\n  <tbody>\n    <tr>\n      <th>0</th>\n      <td>82389598</td>\n      <td>Eowyg Aihm SI-K d8-1</td>\n    </tr>\n    <tr>\n      <th>1</th>\n      <td>82389599</td>\n      <td>Blua Hypue XL-F c14-130</td>\n    </tr>\n    <tr>\n      <th>2</th>\n      <td>82389600</td>\n      <td>Stuemeae FL-Y d3797</td>\n    </tr>\n    <tr>\n      <th>3</th>\n      <td>82389601</td>\n      <td>Pha Auscs RJ-K b37-0</td>\n    </tr>\n    <tr>\n      <th>4</th>\n      <td>82389602</td>\n      <td>Flyae Dryoae RH-P c20-1</td>\n    </tr>\n    <tr>\n      <th>...</th>\n      <td>...</td>\n      <td>...</td>\n    </tr>\n    <tr>\n      <th>96540</th>\n      <td>82472766</td>\n      <td>Clookeou XP-G b56-8</td>\n    </tr>\n    <tr>\n      <th>96541</th>\n      <td>82472767</td>\n      <td>Prieluia AM-D d12-102</td>\n    </tr>\n    <tr>\n      <th>96542</th>\n      <td>82472768</td>\n      <td>Hypuae Chraei YT-Y d1-4249</td>\n    </tr>\n    <tr>\n      <th>96543</th>\n      <td>82472769</td>\n      <td>Dryooe Flyou XJ-D b27-7</td>\n    </tr>\n    <tr>\n      <th>96544</th>\n      <td>82472770</td>\n      <td>Dumbaa TL-B d14-2537</td>\n    </tr>\n  </tbody>\n</table>\n<p>96545 rows × 2 columns</p>\n</div>"
     },
     "execution_count": 18,
     "metadata": {},
     "output_type": "execute_result"
    }
   ],
   "source": [
    "test_systems[['id','name']].apply(lambda x: x)"
   ],
   "metadata": {
    "collapsed": false,
    "ExecuteTime": {
     "end_time": "2023-10-25T04:12:05.222252Z",
     "start_time": "2023-10-25T04:12:05.214637Z"
    }
   },
   "id": "d0ebd8233fa16cc2"
  },
  {
   "cell_type": "code",
   "execution_count": null,
   "outputs": [],
   "source": [],
   "metadata": {
    "collapsed": false
   },
   "id": "dcaee9ec375a6fea"
  }
 ],
 "metadata": {
  "kernelspec": {
   "display_name": "Python 3",
   "language": "python",
   "name": "python3"
  },
  "language_info": {
   "codemirror_mode": {
    "name": "ipython",
    "version": 2
   },
   "file_extension": ".py",
   "mimetype": "text/x-python",
   "name": "python",
   "nbconvert_exporter": "python",
   "pygments_lexer": "ipython2",
   "version": "2.7.6"
  }
 },
 "nbformat": 4,
 "nbformat_minor": 5
}
