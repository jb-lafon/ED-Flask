{
 "cells": [
  {
   "cell_type": "markdown",
   "metadata": {},
   "source": [
    "# Import"
   ]
  },
  {
   "cell_type": "code",
   "execution_count": 1,
   "metadata": {},
   "outputs": [],
   "source": [
    "import pandas as pd\n",
    "import numpy as np\n",
    "import plotly.express as px\n",
    "\n",
    "import starmaptools.classes as smt"
   ]
  },
  {
   "cell_type": "code",
   "execution_count": 2,
   "metadata": {},
   "outputs": [],
   "source": [
    "PLOTLY = False      # True for plotly graphs, False for native pandas"
   ]
  },
  {
   "cell_type": "markdown",
   "metadata": {},
   "source": [
    "# Exploration"
   ]
  },
  {
   "cell_type": "markdown",
   "metadata": {},
   "source": [
    "## Overview"
   ]
  },
  {
   "cell_type": "code",
   "execution_count": 3,
   "metadata": {},
   "outputs": [
    {
     "data": {
      "text/html": [
       "<div>\n",
       "<style scoped>\n",
       "    .dataframe tbody tr th:only-of-type {\n",
       "        vertical-align: middle;\n",
       "    }\n",
       "\n",
       "    .dataframe tbody tr th {\n",
       "        vertical-align: top;\n",
       "    }\n",
       "\n",
       "    .dataframe thead th {\n",
       "        text-align: right;\n",
       "    }\n",
       "</style>\n",
       "<table border=\"1\" class=\"dataframe\">\n",
       "  <thead>\n",
       "    <tr style=\"text-align: right;\">\n",
       "      <th></th>\n",
       "      <th>COUNT(*)</th>\n",
       "    </tr>\n",
       "  </thead>\n",
       "  <tbody>\n",
       "    <tr>\n",
       "      <th>0</th>\n",
       "      <td>30492549</td>\n",
       "    </tr>\n",
       "  </tbody>\n",
       "</table>\n",
       "</div>"
      ],
      "text/plain": [
       "   COUNT(*)\n",
       "0  30492549"
      ]
     },
     "execution_count": 3,
     "metadata": {},
     "output_type": "execute_result"
    }
   ],
   "source": [
    "systems_count = smt.SQLQuery(query=\"SELECT COUNT(*)\")\n",
    "systems_count"
   ]
  },
  {
   "cell_type": "code",
   "execution_count": 4,
   "metadata": {},
   "outputs": [
    {
     "data": {
      "text/html": [
       "<div>\n",
       "<style scoped>\n",
       "    .dataframe tbody tr th:only-of-type {\n",
       "        vertical-align: middle;\n",
       "    }\n",
       "\n",
       "    .dataframe tbody tr th {\n",
       "        vertical-align: top;\n",
       "    }\n",
       "\n",
       "    .dataframe thead th {\n",
       "        text-align: right;\n",
       "    }\n",
       "</style>\n",
       "<table border=\"1\" class=\"dataframe\">\n",
       "  <thead>\n",
       "    <tr style=\"text-align: right;\">\n",
       "      <th></th>\n",
       "      <th>count</th>\n",
       "    </tr>\n",
       "  </thead>\n",
       "  <tbody>\n",
       "    <tr>\n",
       "      <th>Null</th>\n",
       "      <td>28492201</td>\n",
       "    </tr>\n",
       "    <tr>\n",
       "      <th>Unknown</th>\n",
       "      <td>1888967</td>\n",
       "    </tr>\n",
       "    <tr>\n",
       "      <th>Valued</th>\n",
       "      <td>111381</td>\n",
       "    </tr>\n",
       "  </tbody>\n",
       "</table>\n",
       "</div>"
      ],
      "text/plain": [
       "            count\n",
       "Null     28492201\n",
       "Unknown   1888967\n",
       "Valued     111381"
      ]
     },
     "execution_count": 4,
     "metadata": {},
     "output_type": "execute_result"
    }
   ],
   "source": [
    "null_values = smt.SQLQuery(query=\"SELECT COUNT(*)\", filter=\"`value` IS NULL\").iloc[0,0]\n",
    "no_values = smt.SQLQuery(query=\"SELECT COUNT(*)\", filter=\"`value` = 1\").iloc[0,0]\n",
    "with_value = smt.SQLQuery(query=\"SELECT COUNT(*)\", filter=\"`value` > 1\").iloc[0,0]\n",
    "\n",
    "data = pd.DataFrame(\n",
    "    {'count':[null_values, no_values, with_value]},\n",
    "    index=['Null', 'Unknown', 'Valued']\n",
    ")\n",
    "data"
   ]
  },
  {
   "cell_type": "code",
   "execution_count": 5,
   "metadata": {},
   "outputs": [
    {
     "data": {
      "image/png": "[encoded data removed]",
      "text/plain": [
       "<Figure size 500x500 with 1 Axes>"
      ]
     },
     "metadata": {},
     "output_type": "display_data"
    }
   ],
   "source": [
    "if PLOTLY != True:\n",
    "    data.plot.pie(y='count', figsize=(5, 5))\n",
    "else:\n",
    "    fig = px.pie(data, values='count', names=data.index)\n",
    "    fig.show()"
   ]
  },
  {
   "cell_type": "markdown",
   "metadata": {},
   "source": [
    "# Valued Systems"
   ]
  },
  {
   "cell_type": "code",
   "execution_count": 7,
   "metadata": {},
   "outputs": [],
   "source": [
    "# Load all systems with value\n",
    "valued_systems = smt.ValuedSystems()"
   ]
  },
  {
   "cell_type": "code",
   "execution_count": 8,
   "metadata": {},
   "outputs": [
    {
     "name": "stdout",
     "output_type": "stream",
     "text": [
      "Minimum system value is 2,880 CR\n"
     ]
    }
   ],
   "source": [
    "min_val = valued_systems.loc[valued_systems['value'] == valued_systems['value'].min(), 'value'].min()\n",
    "print('Minimum system value is {:,} CR'.format(min_val))"
   ]
  },
  {
   "cell_type": "code",
   "execution_count": 9,
   "metadata": {},
   "outputs": [
    {
     "name": "stdout",
     "output_type": "stream",
     "text": [
      "Maximum system value is 334,814,155 CR\n"
     ]
    }
   ],
   "source": [
    "max_val = valued_systems.loc[valued_systems['value'] == valued_systems['value'].max(), 'value'].max()\n",
    "print('Maximum system value is {:,} CR'.format(max_val))"
   ]
  },
  {
   "cell_type": "code",
   "execution_count": 10,
   "metadata": {},
   "outputs": [
    {
     "data": {
      "text/html": [
       "<div>\n",
       "<style scoped>\n",
       "    .dataframe tbody tr th:only-of-type {\n",
       "        vertical-align: middle;\n",
       "    }\n",
       "\n",
       "    .dataframe tbody tr th {\n",
       "        vertical-align: top;\n",
       "    }\n",
       "\n",
       "    .dataframe thead th {\n",
       "        text-align: right;\n",
       "    }\n",
       "</style>\n",
       "<table border=\"1\" class=\"dataframe\">\n",
       "  <thead>\n",
       "    <tr style=\"text-align: right;\">\n",
       "      <th></th>\n",
       "      <th>id</th>\n",
       "      <th>edsm_id</th>\n",
       "      <th>date</th>\n",
       "      <th>coordX</th>\n",
       "      <th>coordY</th>\n",
       "      <th>coordZ</th>\n",
       "      <th>value</th>\n",
       "    </tr>\n",
       "  </thead>\n",
       "  <tbody>\n",
       "    <tr>\n",
       "      <th>count</th>\n",
       "      <td>1.113810e+05</td>\n",
       "      <td>1.113810e+05</td>\n",
       "      <td>111381</td>\n",
       "      <td>111381.000000</td>\n",
       "      <td>111381.000000</td>\n",
       "      <td>111381.000000</td>\n",
       "      <td>1.113810e+05</td>\n",
       "    </tr>\n",
       "    <tr>\n",
       "      <th>mean</th>\n",
       "      <td>5.485588e+06</td>\n",
       "      <td>4.623986e+06</td>\n",
       "      <td>2018-12-18 18:28:25.746267136</td>\n",
       "      <td>90.654396</td>\n",
       "      <td>-47.801991</td>\n",
       "      <td>2711.774246</td>\n",
       "      <td>1.309316e+05</td>\n",
       "    </tr>\n",
       "    <tr>\n",
       "      <th>min</th>\n",
       "      <td>8.000000e+00</td>\n",
       "      <td>3.000000e+00</td>\n",
       "      <td>2018-12-11 10:39:04</td>\n",
       "      <td>-42213.800000</td>\n",
       "      <td>-2901.060000</td>\n",
       "      <td>-16414.900000</td>\n",
       "      <td>2.880000e+03</td>\n",
       "    </tr>\n",
       "    <tr>\n",
       "      <th>25%</th>\n",
       "      <td>1.194987e+06</td>\n",
       "      <td>4.223720e+05</td>\n",
       "      <td>2018-12-11 12:10:40</td>\n",
       "      <td>-489.406000</td>\n",
       "      <td>-81.656200</td>\n",
       "      <td>-208.625000</td>\n",
       "      <td>2.907000e+03</td>\n",
       "    </tr>\n",
       "    <tr>\n",
       "      <th>50%</th>\n",
       "      <td>3.083306e+06</td>\n",
       "      <td>3.282709e+06</td>\n",
       "      <td>2018-12-12 10:57:18</td>\n",
       "      <td>-6.593750</td>\n",
       "      <td>-21.218800</td>\n",
       "      <td>55.187500</td>\n",
       "      <td>8.670000e+03</td>\n",
       "    </tr>\n",
       "    <tr>\n",
       "      <th>75%</th>\n",
       "      <td>6.108283e+06</td>\n",
       "      <td>4.811673e+06</td>\n",
       "      <td>2018-12-23 01:40:41</td>\n",
       "      <td>154.750000</td>\n",
       "      <td>45.406200</td>\n",
       "      <td>361.906000</td>\n",
       "      <td>7.080900e+04</td>\n",
       "    </tr>\n",
       "    <tr>\n",
       "      <th>max</th>\n",
       "      <td>3.049255e+07</td>\n",
       "      <td>3.190159e+07</td>\n",
       "      <td>2019-01-13 22:04:30</td>\n",
       "      <td>40275.100000</td>\n",
       "      <td>2763.560000</td>\n",
       "      <td>65579.800000</td>\n",
       "      <td>3.348142e+08</td>\n",
       "    </tr>\n",
       "    <tr>\n",
       "      <th>std</th>\n",
       "      <td>7.180467e+06</td>\n",
       "      <td>6.068494e+06</td>\n",
       "      <td>NaN</td>\n",
       "      <td>5925.944942</td>\n",
       "      <td>233.969123</td>\n",
       "      <td>10541.087846</td>\n",
       "      <td>1.054770e+06</td>\n",
       "    </tr>\n",
       "  </tbody>\n",
       "</table>\n",
       "</div>"
      ],
      "text/plain": [
       "                 id       edsm_id                           date  \\\n",
       "count  1.113810e+05  1.113810e+05                         111381   \n",
       "mean   5.485588e+06  4.623986e+06  2018-12-18 18:28:25.746267136   \n",
       "min    8.000000e+00  3.000000e+00            2018-12-11 10:39:04   \n",
       "25%    1.194987e+06  4.223720e+05            2018-12-11 12:10:40   \n",
       "50%    3.083306e+06  3.282709e+06            2018-12-12 10:57:18   \n",
       "75%    6.108283e+06  4.811673e+06            2018-12-23 01:40:41   \n",
       "max    3.049255e+07  3.190159e+07            2019-01-13 22:04:30   \n",
       "std    7.180467e+06  6.068494e+06                            NaN   \n",
       "\n",
       "              coordX         coordY         coordZ         value  \n",
       "count  111381.000000  111381.000000  111381.000000  1.113810e+05  \n",
       "mean       90.654396     -47.801991    2711.774246  1.309316e+05  \n",
       "min    -42213.800000   -2901.060000  -16414.900000  2.880000e+03  \n",
       "25%      -489.406000     -81.656200    -208.625000  2.907000e+03  \n",
       "50%        -6.593750     -21.218800      55.187500  8.670000e+03  \n",
       "75%       154.750000      45.406200     361.906000  7.080900e+04  \n",
       "max     40275.100000    2763.560000   65579.800000  3.348142e+08  \n",
       "std      5925.944942     233.969123   10541.087846  1.054770e+06  "
      ]
     },
     "execution_count": 10,
     "metadata": {},
     "output_type": "execute_result"
    }
   ],
   "source": [
    "valued_systems.describe()"
   ]
  },
  {
   "cell_type": "markdown",
   "metadata": {},
   "source": [
    "## Distribution of values"
   ]
  },
  {
   "cell_type": "code",
   "execution_count": 11,
   "metadata": {},
   "outputs": [],
   "source": [
    "bins = ['0-10k','10k-50k','50k-100k','100k-250k', '250k-500k', '500k-1M', '1M+']\n",
    "caps = [0, 10e+3, 50e+3, 100e+3, 250e+3, 500e+3, 1e+6]\n",
    "values = []\n",
    "bin1 = valued_systems.loc[valued_systems.value.between(0, 10e+03, inclusive='left'), 'value']\n",
    "\n",
    "for i in range(len(caps)-1):\n",
    "    values.append(valued_systems.loc[valued_systems.value.between(caps[i], caps[i+1], inclusive='left'), 'value'].count())\n",
    "values.append(valued_systems.loc[valued_systems.value > max(caps), 'value'].count())\n",
    "\n",
    "hist = pd.DataFrame({'Values':bins, 'Number of systems':values})"
   ]
  },
  {
   "cell_type": "code",
   "execution_count": 12,
   "metadata": {},
   "outputs": [
    {
     "data": {
      "image/png": "[encoded data removed]",
      "text/plain": [
       "<Figure size 640x480 with 1 Axes>"
      ]
     },
     "metadata": {},
     "output_type": "display_data"
    }
   ],
   "source": [
    "if PLOTLY != True:\n",
    "    hist.plot.bar(x='Values', y='Number of systems')\n",
    "else:\n",
    "    fig = px.bar(hist, x='Values',y='Number of systems', title=\"Distribution of values\", text_auto='.2s')\n",
    "    fig.show()"
   ]
  }
 ],
 "metadata": {
  "kernelspec": {
   "display_name": "edsm-python",
   "language": "python",
   "name": "python3"
  },
  "language_info": {
   "codemirror_mode": {
    "name": "ipython",
    "version": 3
   },
   "file_extension": ".py",
   "mimetype": "text/x-python",
   "name": "python",
   "nbconvert_exporter": "python",
   "pygments_lexer": "ipython3",
   "version": "3.11.5"
  }
 },
 "nbformat": 4,
 "nbformat_minor": 4
}
